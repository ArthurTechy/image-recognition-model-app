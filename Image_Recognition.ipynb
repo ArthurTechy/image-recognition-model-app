{
  "cells": [
    {
      "cell_type": "markdown",
      "id": "bd681993",
      "metadata": {
        "id": "bd681993"
      },
      "source": [
        "## Image Recognition/Classification with CIFAR-10"
      ]
    },
    {
      "cell_type": "code",
      "execution_count": null,
      "id": "lT9wjtIAo8JB",
      "metadata": {
        "id": "lT9wjtIAo8JB"
      },
      "outputs": [],
      "source": [
        " #pip install tensorflow-cpu==2.13.0 numpy==1.24.3 Pillow==10.4.0"
      ]
    },
    {
      "cell_type": "code",
      "execution_count": 1,
      "id": "6a033b69",
      "metadata": {
        "id": "6a033b69"
      },
      "outputs": [],
      "source": [
        "# importing required libraries\n",
        "import os\n",
        "import numpy as np\n",
        "import tensorflow as tf\n",
        "from pathlib import Path\n",
        "from tensorflow.keras import layers, models\n",
        "import matplotlib.pyplot as plt"
      ]
    },
    {
      "cell_type": "code",
      "execution_count": 2,
      "id": "Vje_WFmVp9p3",
      "metadata": {
        "colab": {
          "base_uri": "https://localhost:8080/"
        },
        "id": "Vje_WFmVp9p3",
        "outputId": "f0293a95-3731-4538-bd98-d24d4e3e5400"
      },
      "outputs": [
        {
          "output_type": "stream",
          "name": "stdout",
          "text": [
            "TensorFlow version: 2.13.0\n",
            "Is GPU available: [PhysicalDevice(name='/physical_device:CPU:0', device_type='CPU')]\n"
          ]
        }
      ],
      "source": [
        "import tensorflow as tf\n",
        "print(\"TensorFlow version:\", tf.__version__)\n",
        "print(\"Is GPU available:\", tf.config.list_physical_devices('CPU'))"
      ]
    },
    {
      "cell_type": "code",
      "execution_count": 3,
      "id": "c28de8a4",
      "metadata": {
        "colab": {
          "base_uri": "https://localhost:8080/"
        },
        "id": "c28de8a4",
        "outputId": "4d0a8bc8-b223-4bb8-d59c-2b6bf94a893a"
      },
      "outputs": [
        {
          "output_type": "stream",
          "name": "stdout",
          "text": [
            "Downloading data from https://www.cs.toronto.edu/~kriz/cifar-10-python.tar.gz\n",
            "170498071/170498071 [==============================] - 11s 0us/step\n",
            "CIFAR-10 data saved to folder: cifar10_data\n"
          ]
        }
      ],
      "source": [
        "# Create data folder using pathlib\n",
        "data_folder = Path(\"cifar10_data\")\n",
        "data_folder.mkdir(exist_ok=True)\n",
        "\n",
        "# Load CIFAR-10 dataset\n",
        "(x_train, y_train), (x_test, y_test) = tf.keras.datasets.cifar10.load_data()\n",
        "\n",
        "# Save all data arrays in one loop\n",
        "for name, data in [\n",
        "    (\"x_train\", x_train),\n",
        "    (\"y_train\", y_train),\n",
        "    (\"x_test\", x_test),\n",
        "    (\"y_test\", y_test)\n",
        "]:\n",
        "    np.save(data_folder / f\"{name}.npy\", data)\n",
        "print(f\"CIFAR-10 data saved to folder: {data_folder}\")"
      ]
    },
    {
      "cell_type": "code",
      "execution_count": 4,
      "id": "9e46fd88",
      "metadata": {
        "id": "9e46fd88"
      },
      "outputs": [],
      "source": [
        "# Preprocess the data\n",
        "x_train = x_train.astype('float32') / 255.0\n",
        "x_test = x_test.astype('float32') / 255.0\n",
        "\n",
        "# Convert labels to one-hot encoding\n",
        "y_train = tf.keras.utils.to_categorical(y_train, 10)\n",
        "y_test = tf.keras.utils.to_categorical(y_test, 10)"
      ]
    },
    {
      "cell_type": "code",
      "execution_count": 5,
      "id": "faaeb2bf",
      "metadata": {
        "id": "faaeb2bf"
      },
      "outputs": [],
      "source": [
        "# Define the CNN model\n",
        "def create_model():\n",
        "    model = models.Sequential([\n",
        "        # First Convolutional Block\n",
        "        layers.Conv2D(32, (3, 3), activation='relu', padding='same', input_shape=(32, 32, 3)),\n",
        "        layers.BatchNormalization(),\n",
        "        layers.Conv2D(32, (3, 3), activation='relu', padding='same'),\n",
        "        layers.BatchNormalization(),\n",
        "        layers.MaxPooling2D((2, 2)),\n",
        "        layers.Dropout(0.25),\n",
        "\n",
        "        # Second Convolutional Block\n",
        "        layers.Conv2D(64, (3, 3), activation='relu', padding='same'),\n",
        "        layers.BatchNormalization(),\n",
        "        layers.Conv2D(64, (3, 3), activation='relu', padding='same'),\n",
        "        layers.BatchNormalization(),\n",
        "        layers.MaxPooling2D((2, 2)),\n",
        "        layers.Dropout(0.25),\n",
        "\n",
        "        # Third Convolutional Block\n",
        "        layers.Conv2D(128, (3, 3), activation='relu', padding='same'),\n",
        "        layers.BatchNormalization(),\n",
        "        layers.Conv2D(128, (3, 3), activation='relu', padding='same'),\n",
        "        layers.BatchNormalization(),\n",
        "        layers.MaxPooling2D((2, 2)),\n",
        "        layers.Dropout(0.25),\n",
        "\n",
        "        # Dense Layers\n",
        "        layers.Flatten(),\n",
        "        layers.Dense(512, activation='relu'),\n",
        "        layers.BatchNormalization(),\n",
        "        layers.Dropout(0.5),\n",
        "        layers.Dense(10, activation='softmax')\n",
        "    ])\n",
        "    return model"
      ]
    },
    {
      "cell_type": "code",
      "execution_count": 6,
      "id": "33bdcdf9",
      "metadata": {
        "id": "33bdcdf9"
      },
      "outputs": [],
      "source": [
        "# Create and compile the model\n",
        "model = create_model()\n",
        "model.compile(\n",
        "    optimizer='adam',\n",
        "    loss='categorical_crossentropy',\n",
        "    metrics=['accuracy']\n",
        ")"
      ]
    },
    {
      "cell_type": "code",
      "execution_count": 7,
      "id": "d71c4268",
      "metadata": {
        "id": "d71c4268"
      },
      "outputs": [],
      "source": [
        "# Define callbacks\n",
        "checkpoint_path = \"best_model.h5\"\n",
        "callbacks = [\n",
        "    tf.keras.callbacks.ModelCheckpoint(\n",
        "        checkpoint_path,\n",
        "        save_best_only=True,\n",
        "        monitor='val_accuracy'\n",
        "    ),\n",
        "    tf.keras.callbacks.EarlyStopping(\n",
        "        monitor='val_accuracy',\n",
        "        patience=10,\n",
        "        restore_best_weights=True\n",
        "    ),\n",
        "    tf.keras.callbacks.ReduceLROnPlateau(\n",
        "        monitor='val_loss',\n",
        "        factor=0.5,\n",
        "        patience=5,\n",
        "        min_lr=1e-6\n",
        "    )\n",
        "]"
      ]
    },
    {
      "cell_type": "code",
      "execution_count": 8,
      "id": "14bd210d",
      "metadata": {
        "colab": {
          "base_uri": "https://localhost:8080/"
        },
        "id": "14bd210d",
        "outputId": "0fd67e17-edff-4d3d-e16d-88dd0ea5d5f4"
      },
      "outputs": [
        {
          "output_type": "stream",
          "name": "stdout",
          "text": [
            "Epoch 1/30\n",
            "417/417 [==============================] - 370s 878ms/step - loss: 1.7004 - accuracy: 0.4373 - val_loss: 3.0233 - val_accuracy: 0.2372 - lr: 0.0010\n",
            "Epoch 2/30\n"
          ]
        },
        {
          "output_type": "stream",
          "name": "stderr",
          "text": [
            "/usr/local/lib/python3.10/dist-packages/keras/src/engine/training.py:3000: UserWarning: You are saving your model as an HDF5 file via `model.save()`. This file format is considered legacy. We recommend using instead the native Keras format, e.g. `model.save('my_model.keras')`.\n",
            "  saving_api.save_model(\n"
          ]
        },
        {
          "output_type": "stream",
          "name": "stdout",
          "text": [
            "417/417 [==============================] - 367s 879ms/step - loss: 1.0905 - accuracy: 0.6133 - val_loss: 1.0391 - val_accuracy: 0.6445 - lr: 0.0010\n",
            "Epoch 3/30\n",
            "417/417 [==============================] - 394s 944ms/step - loss: 0.8951 - accuracy: 0.6861 - val_loss: 0.8697 - val_accuracy: 0.7026 - lr: 0.0010\n",
            "Epoch 4/30\n",
            "417/417 [==============================] - 361s 867ms/step - loss: 0.7859 - accuracy: 0.7219 - val_loss: 0.8000 - val_accuracy: 0.7228 - lr: 0.0010\n",
            "Epoch 5/30\n",
            "417/417 [==============================] - 362s 869ms/step - loss: 0.7123 - accuracy: 0.7488 - val_loss: 0.7678 - val_accuracy: 0.7417 - lr: 0.0010\n",
            "Epoch 6/30\n",
            "417/417 [==============================] - 382s 917ms/step - loss: 0.6499 - accuracy: 0.7725 - val_loss: 0.6540 - val_accuracy: 0.7746 - lr: 0.0010\n",
            "Epoch 7/30\n",
            "417/417 [==============================] - 360s 864ms/step - loss: 0.6139 - accuracy: 0.7842 - val_loss: 0.7122 - val_accuracy: 0.7584 - lr: 0.0010\n",
            "Epoch 8/30\n",
            "417/417 [==============================] - 358s 860ms/step - loss: 0.5587 - accuracy: 0.8046 - val_loss: 0.9529 - val_accuracy: 0.7024 - lr: 0.0010\n",
            "Epoch 9/30\n",
            "417/417 [==============================] - 358s 859ms/step - loss: 0.5171 - accuracy: 0.8190 - val_loss: 0.6888 - val_accuracy: 0.7701 - lr: 0.0010\n",
            "Epoch 10/30\n",
            "417/417 [==============================] - 358s 860ms/step - loss: 0.4865 - accuracy: 0.8296 - val_loss: 0.7388 - val_accuracy: 0.7580 - lr: 0.0010\n",
            "Epoch 11/30\n",
            "417/417 [==============================] - 359s 862ms/step - loss: 0.4551 - accuracy: 0.8411 - val_loss: 0.5889 - val_accuracy: 0.8025 - lr: 0.0010\n",
            "Epoch 12/30\n",
            "417/417 [==============================] - 359s 861ms/step - loss: 0.4210 - accuracy: 0.8535 - val_loss: 0.5671 - val_accuracy: 0.8109 - lr: 0.0010\n",
            "Epoch 13/30\n",
            "417/417 [==============================] - 360s 864ms/step - loss: 0.3924 - accuracy: 0.8616 - val_loss: 0.6683 - val_accuracy: 0.7894 - lr: 0.0010\n",
            "Epoch 14/30\n",
            "417/417 [==============================] - 361s 867ms/step - loss: 0.3730 - accuracy: 0.8683 - val_loss: 0.6183 - val_accuracy: 0.8044 - lr: 0.0010\n",
            "Epoch 15/30\n",
            "417/417 [==============================] - 360s 863ms/step - loss: 0.3542 - accuracy: 0.8761 - val_loss: 0.5598 - val_accuracy: 0.8225 - lr: 0.0010\n",
            "Epoch 16/30\n",
            "417/417 [==============================] - 358s 858ms/step - loss: 0.3272 - accuracy: 0.8825 - val_loss: 0.5726 - val_accuracy: 0.8211 - lr: 0.0010\n",
            "Epoch 17/30\n",
            "417/417 [==============================] - 356s 854ms/step - loss: 0.3096 - accuracy: 0.8887 - val_loss: 0.5392 - val_accuracy: 0.8307 - lr: 0.0010\n",
            "Epoch 18/30\n",
            "417/417 [==============================] - 357s 857ms/step - loss: 0.2907 - accuracy: 0.8970 - val_loss: 0.6342 - val_accuracy: 0.8101 - lr: 0.0010\n",
            "Epoch 19/30\n",
            "417/417 [==============================] - 361s 867ms/step - loss: 0.2796 - accuracy: 0.9000 - val_loss: 0.5071 - val_accuracy: 0.8414 - lr: 0.0010\n",
            "Epoch 20/30\n",
            "417/417 [==============================] - 361s 865ms/step - loss: 0.2629 - accuracy: 0.9073 - val_loss: 0.5228 - val_accuracy: 0.8377 - lr: 0.0010\n",
            "Epoch 21/30\n",
            "417/417 [==============================] - 359s 862ms/step - loss: 0.2502 - accuracy: 0.9118 - val_loss: 0.5581 - val_accuracy: 0.8271 - lr: 0.0010\n",
            "Epoch 22/30\n",
            "417/417 [==============================] - 358s 858ms/step - loss: 0.2443 - accuracy: 0.9138 - val_loss: 0.6501 - val_accuracy: 0.8145 - lr: 0.0010\n",
            "Epoch 23/30\n",
            "417/417 [==============================] - 378s 907ms/step - loss: 0.2248 - accuracy: 0.9203 - val_loss: 0.5307 - val_accuracy: 0.8390 - lr: 0.0010\n",
            "Epoch 24/30\n",
            "417/417 [==============================] - 364s 872ms/step - loss: 0.2208 - accuracy: 0.9215 - val_loss: 0.5273 - val_accuracy: 0.8429 - lr: 0.0010\n",
            "Epoch 25/30\n",
            "417/417 [==============================] - 361s 865ms/step - loss: 0.1656 - accuracy: 0.9418 - val_loss: 0.4894 - val_accuracy: 0.8552 - lr: 5.0000e-04\n",
            "Epoch 26/30\n",
            "417/417 [==============================] - 359s 862ms/step - loss: 0.1510 - accuracy: 0.9454 - val_loss: 0.4867 - val_accuracy: 0.8593 - lr: 5.0000e-04\n",
            "Epoch 27/30\n",
            "417/417 [==============================] - 356s 853ms/step - loss: 0.1378 - accuracy: 0.9516 - val_loss: 0.5130 - val_accuracy: 0.8567 - lr: 5.0000e-04\n",
            "Epoch 28/30\n",
            "417/417 [==============================] - 357s 856ms/step - loss: 0.1334 - accuracy: 0.9513 - val_loss: 0.5119 - val_accuracy: 0.8572 - lr: 5.0000e-04\n",
            "Epoch 29/30\n",
            "417/417 [==============================] - 354s 849ms/step - loss: 0.1312 - accuracy: 0.9531 - val_loss: 0.5359 - val_accuracy: 0.8552 - lr: 5.0000e-04\n",
            "Epoch 30/30\n",
            "417/417 [==============================] - 361s 865ms/step - loss: 0.1242 - accuracy: 0.9554 - val_loss: 0.5409 - val_accuracy: 0.8512 - lr: 5.0000e-04\n"
          ]
        }
      ],
      "source": [
        "# Train the model\n",
        "history = model.fit(\n",
        "    x_train, y_train,\n",
        "    batch_size=96,\n",
        "    epochs=30,\n",
        "    validation_split=0.2,\n",
        "    callbacks=callbacks,\n",
        "    verbose=1\n",
        ")"
      ]
    },
    {
      "cell_type": "code",
      "execution_count": 9,
      "id": "dbdd0e98",
      "metadata": {
        "colab": {
          "base_uri": "https://localhost:8080/"
        },
        "id": "dbdd0e98",
        "outputId": "94d27fa5-d162-4714-880c-b31bff75a861"
      },
      "outputs": [
        {
          "output_type": "stream",
          "name": "stdout",
          "text": [
            "\n",
            "Test accuracy: 0.8461\n"
          ]
        }
      ],
      "source": [
        "# Evaluate the model\n",
        "test_loss, test_accuracy = model.evaluate(x_test, y_test, verbose=0)\n",
        "print(f\"\\nTest accuracy: {test_accuracy:.4f}\")"
      ]
    },
    {
      "cell_type": "code",
      "execution_count": 10,
      "id": "15a9ae68",
      "metadata": {
        "colab": {
          "base_uri": "https://localhost:8080/",
          "height": 343
        },
        "id": "15a9ae68",
        "outputId": "95ea367f-a564-4dfc-a0f4-55d0fbb6bcb0"
      },
      "outputs": [
        {
          "output_type": "display_data",
          "data": {
            "text/plain": [
              "<Figure size 1500x500 with 2 Axes>"
            ],
            "image/png": "[encoded data removed]"
          },
          "metadata": {}
        }
      ],
      "source": [
        "# Plot training history\n",
        "def plot_training_history(history):\n",
        "    fig, (ax1, ax2) = plt.subplots(1, 2, figsize=(15, 5))\n",
        "\n",
        "    # Plot accuracy\n",
        "    ax1.plot(history.history['accuracy'])\n",
        "    ax1.plot(history.history['val_accuracy'])\n",
        "    ax1.set_title('Model Accuracy')\n",
        "    ax1.set_xlabel('Epoch')\n",
        "    ax1.set_ylabel('Accuracy')\n",
        "    ax1.legend(['Train', 'Validation'])\n",
        "\n",
        "    # Plot loss\n",
        "    ax2.plot(history.history['loss'])\n",
        "    ax2.plot(history.history['val_loss'])\n",
        "    ax2.set_title('Model Loss')\n",
        "    ax2.set_xlabel('Epoch')\n",
        "    ax2.set_ylabel('Loss')\n",
        "    ax2.legend(['Train', 'Validation'])\n",
        "\n",
        "    plt.tight_layout()\n",
        "    plt.show()\n",
        "\n",
        "plot_training_history(history)"
      ]
    },
    {
      "cell_type": "code",
      "execution_count": 12,
      "id": "fa453f41",
      "metadata": {
        "id": "fa453f41"
      },
      "outputs": [],
      "source": [
        "# Function to predict single image\n",
        "def predict_image(model, image_path):\n",
        "    # Load and preprocess the image\n",
        "    img = tf.keras.preprocessing.image.load_img(\n",
        "        image_path, target_size=(32, 32)\n",
        "    )\n",
        "    img_array = tf.keras.preprocessing.image.img_to_array(img)\n",
        "    img_array = np.expand_dims(img_array, 0)\n",
        "    img_array = img_array.astype('float32') / 255.0\n",
        "\n",
        "    # Make prediction\n",
        "    predictions = model.predict(img_array)\n",
        "    class_names = ['airplane', 'automobile', 'bird', 'cat', 'deer',\n",
        "                  'dog', 'frog', 'horse', 'ship', 'truck']\n",
        "\n",
        "    predicted_class = class_names[np.argmax(predictions[0])]\n",
        "    confidence = np.max(predictions[0])\n",
        "\n",
        "    return predicted_class, confidence"
      ]
    },
    {
      "cell_type": "code",
      "execution_count": 11,
      "id": "14e89632",
      "metadata": {
        "colab": {
          "base_uri": "https://localhost:8080/"
        },
        "id": "14e89632",
        "outputId": "6e966902-831d-4fca-84eb-17393c4c43f9"
      },
      "outputs": [
        {
          "output_type": "stream",
          "name": "stdout",
          "text": [
            "Model saved as 'cifar10_model.h5'\n"
          ]
        }
      ],
      "source": [
        "# Save the model\n",
        "model.save('cifar10_model.h5')\n",
        "print(\"Model saved as 'cifar10_model.h5'\")"
      ]
    },
    {
      "cell_type": "code",
      "execution_count": null,
      "id": "11dc104e",
      "metadata": {
        "id": "11dc104e"
      },
      "outputs": [],
      "source": []
    },
    {
      "cell_type": "code",
      "execution_count": null,
      "id": "5ba86749",
      "metadata": {
        "id": "5ba86749"
      },
      "outputs": [],
      "source": []
    },
    {
      "cell_type": "code",
      "execution_count": null,
      "id": "31c5c8c2",
      "metadata": {
        "id": "31c5c8c2"
      },
      "outputs": [],
      "source": []
    }
  ],
  "metadata": {
    "accelerator": "GPU",
    "colab": {
      "gpuType": "T4",
      "provenance": []
    },
    "kernelspec": {
      "display_name": "Python 3 (ipykernel)",
      "language": "python",
      "name": "python3"
    },
    "language_info": {
      "codemirror_mode": {
        "name": "ipython",
        "version": 3
      },
      "file_extension": ".py",
      "mimetype": "text/x-python",
      "name": "python",
      "nbconvert_exporter": "python",
      "pygments_lexer": "ipython3",
      "version": "3.11.5"
    }
  },
  "nbformat": 4,
  "nbformat_minor": 5
}